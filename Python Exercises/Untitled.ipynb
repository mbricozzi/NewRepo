{
 "cells": [
  {
   "cell_type": "code",
   "execution_count": 4,
   "metadata": {},
   "outputs": [
    {
     "name": "stderr",
     "output_type": "stream",
     "text": [
      "Warning message in file(file, \"rt\"):\n",
      "\"cannot open file 'C:/usr/mbric/Desktop/New_Thesis/Data/dat.txt': No such file or directory\"\n"
     ]
    },
    {
     "ename": "ERROR",
     "evalue": "Error in file(file, \"rt\"): cannot open the connection\n",
     "output_type": "error",
     "traceback": [
      "Error in file(file, \"rt\"): cannot open the connection\nTraceback:\n",
      "1. read.csv(\"C:/usr/mbric/Desktop/New_Thesis/Data/dat.txt\", sep = \";\")",
      "2. read.table(file = file, header = header, sep = sep, quote = quote, \n .     dec = dec, fill = fill, comment.char = comment.char, ...)",
      "3. file(file, \"rt\")"
     ]
    }
   ],
   "source": [
    "data = read.csv(\"C:/usr/mbric/Desktop/New_Thesis/Data/dat.txt\", sep = \";\")"
   ]
  },
  {
   "cell_type": "code",
   "execution_count": 8,
   "metadata": {},
   "outputs": [
    {
     "ename": "ERROR",
     "evalue": "Error in setwd(\"C:/usr/mbric/Desktop/New_Thesis\"): cannot change working directory\n",
     "output_type": "error",
     "traceback": [
      "Error in setwd(\"C:/usr/mbric/Desktop/New_Thesis\"): cannot change working directory\nTraceback:\n",
      "1. setwd(\"C:/usr/mbric/Desktop/New_Thesis\")"
     ]
    }
   ],
   "source": [
    "setwd(\"C:/usr/mbric/Desktop/New_Thesis\")"
   ]
  },
  {
   "cell_type": "code",
   "execution_count": 7,
   "metadata": {},
   "outputs": [
    {
     "data": {
      "text/html": [
       "'C:/Users/mbric'"
      ],
      "text/latex": [
       "'C:/Users/mbric'"
      ],
      "text/markdown": [
       "'C:/Users/mbric'"
      ],
      "text/plain": [
       "[1] \"C:/Users/mbric\""
      ]
     },
     "metadata": {},
     "output_type": "display_data"
    }
   ],
   "source": [
    "getwd()"
   ]
  }
 ],
 "metadata": {
  "kernelspec": {
   "display_name": "R",
   "language": "R",
   "name": "ir"
  },
  "language_info": {
   "codemirror_mode": "r",
   "file_extension": ".r",
   "mimetype": "text/x-r-source",
   "name": "R",
   "pygments_lexer": "r",
   "version": "3.6.3"
  }
 },
 "nbformat": 4,
 "nbformat_minor": 4
}
